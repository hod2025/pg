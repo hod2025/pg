{
 "cells": [
  {
   "cell_type": "code",
   "execution_count": 15,
   "id": "f1486648",
   "metadata": {},
   "outputs": [],
   "source": [
    "# 12  Write Python/R Programming Code Print both \n",
    "# correct and wrong predictions and Print Accuracy of the Naive Bayes Classifier Model."
   ]
  },
  {
   "cell_type": "code",
   "execution_count": 16,
   "id": "e03ed1f8",
   "metadata": {},
   "outputs": [],
   "source": [
    "import numpy as np\n",
    "from sklearn.naive_bayes import GaussianNB\n",
    "from sklearn.model_selection import train_test_split\n",
    "from sklearn.metrics import accuracy_score"
   ]
  },
  {
   "cell_type": "code",
   "execution_count": 35,
   "id": "186cde54",
   "metadata": {},
   "outputs": [],
   "source": [
    "from sklearn.datasets import load_iris\n",
    "data = load_iris()\n",
    "x = data.data\n",
    "y = data.target"
   ]
  },
  {
   "cell_type": "code",
   "execution_count": 49,
   "id": "c8ba5c53",
   "metadata": {},
   "outputs": [
    {
     "data": {
      "text/plain": [
       "array(['setosa', 'versicolor', 'virginica'], dtype='<U10')"
      ]
     },
     "execution_count": 49,
     "metadata": {},
     "output_type": "execute_result"
    }
   ],
   "source": [
    "data.target_names"
   ]
  },
  {
   "cell_type": "code",
   "execution_count": 41,
   "id": "68dc0a7d",
   "metadata": {},
   "outputs": [],
   "source": [
    "x_train, x_test, y_train, y_test = train_test_split(x,y, test_size=0.3, random_state=42)"
   ]
  },
  {
   "cell_type": "code",
   "execution_count": 42,
   "id": "8b3b02ea",
   "metadata": {},
   "outputs": [
    {
     "data": {
      "text/html": [
       "<style>#sk-container-id-5 {color: black;background-color: white;}#sk-container-id-5 pre{padding: 0;}#sk-container-id-5 div.sk-toggleable {background-color: white;}#sk-container-id-5 label.sk-toggleable__label {cursor: pointer;display: block;width: 100%;margin-bottom: 0;padding: 0.3em;box-sizing: border-box;text-align: center;}#sk-container-id-5 label.sk-toggleable__label-arrow:before {content: \"▸\";float: left;margin-right: 0.25em;color: #696969;}#sk-container-id-5 label.sk-toggleable__label-arrow:hover:before {color: black;}#sk-container-id-5 div.sk-estimator:hover label.sk-toggleable__label-arrow:before {color: black;}#sk-container-id-5 div.sk-toggleable__content {max-height: 0;max-width: 0;overflow: hidden;text-align: left;background-color: #f0f8ff;}#sk-container-id-5 div.sk-toggleable__content pre {margin: 0.2em;color: black;border-radius: 0.25em;background-color: #f0f8ff;}#sk-container-id-5 input.sk-toggleable__control:checked~div.sk-toggleable__content {max-height: 200px;max-width: 100%;overflow: auto;}#sk-container-id-5 input.sk-toggleable__control:checked~label.sk-toggleable__label-arrow:before {content: \"▾\";}#sk-container-id-5 div.sk-estimator input.sk-toggleable__control:checked~label.sk-toggleable__label {background-color: #d4ebff;}#sk-container-id-5 div.sk-label input.sk-toggleable__control:checked~label.sk-toggleable__label {background-color: #d4ebff;}#sk-container-id-5 input.sk-hidden--visually {border: 0;clip: rect(1px 1px 1px 1px);clip: rect(1px, 1px, 1px, 1px);height: 1px;margin: -1px;overflow: hidden;padding: 0;position: absolute;width: 1px;}#sk-container-id-5 div.sk-estimator {font-family: monospace;background-color: #f0f8ff;border: 1px dotted black;border-radius: 0.25em;box-sizing: border-box;margin-bottom: 0.5em;}#sk-container-id-5 div.sk-estimator:hover {background-color: #d4ebff;}#sk-container-id-5 div.sk-parallel-item::after {content: \"\";width: 100%;border-bottom: 1px solid gray;flex-grow: 1;}#sk-container-id-5 div.sk-label:hover label.sk-toggleable__label {background-color: #d4ebff;}#sk-container-id-5 div.sk-serial::before {content: \"\";position: absolute;border-left: 1px solid gray;box-sizing: border-box;top: 0;bottom: 0;left: 50%;z-index: 0;}#sk-container-id-5 div.sk-serial {display: flex;flex-direction: column;align-items: center;background-color: white;padding-right: 0.2em;padding-left: 0.2em;position: relative;}#sk-container-id-5 div.sk-item {position: relative;z-index: 1;}#sk-container-id-5 div.sk-parallel {display: flex;align-items: stretch;justify-content: center;background-color: white;position: relative;}#sk-container-id-5 div.sk-item::before, #sk-container-id-5 div.sk-parallel-item::before {content: \"\";position: absolute;border-left: 1px solid gray;box-sizing: border-box;top: 0;bottom: 0;left: 50%;z-index: -1;}#sk-container-id-5 div.sk-parallel-item {display: flex;flex-direction: column;z-index: 1;position: relative;background-color: white;}#sk-container-id-5 div.sk-parallel-item:first-child::after {align-self: flex-end;width: 50%;}#sk-container-id-5 div.sk-parallel-item:last-child::after {align-self: flex-start;width: 50%;}#sk-container-id-5 div.sk-parallel-item:only-child::after {width: 0;}#sk-container-id-5 div.sk-dashed-wrapped {border: 1px dashed gray;margin: 0 0.4em 0.5em 0.4em;box-sizing: border-box;padding-bottom: 0.4em;background-color: white;}#sk-container-id-5 div.sk-label label {font-family: monospace;font-weight: bold;display: inline-block;line-height: 1.2em;}#sk-container-id-5 div.sk-label-container {text-align: center;}#sk-container-id-5 div.sk-container {/* jupyter's `normalize.less` sets `[hidden] { display: none; }` but bootstrap.min.css set `[hidden] { display: none !important; }` so we also need the `!important` here to be able to override the default hidden behavior on the sphinx rendered scikit-learn.org. See: https://github.com/scikit-learn/scikit-learn/issues/21755 */display: inline-block !important;position: relative;}#sk-container-id-5 div.sk-text-repr-fallback {display: none;}</style><div id=\"sk-container-id-5\" class=\"sk-top-container\"><div class=\"sk-text-repr-fallback\"><pre>GaussianNB()</pre><b>In a Jupyter environment, please rerun this cell to show the HTML representation or trust the notebook. <br />On GitHub, the HTML representation is unable to render, please try loading this page with nbviewer.org.</b></div><div class=\"sk-container\" hidden><div class=\"sk-item\"><div class=\"sk-estimator sk-toggleable\"><input class=\"sk-toggleable__control sk-hidden--visually\" id=\"sk-estimator-id-5\" type=\"checkbox\" checked><label for=\"sk-estimator-id-5\" class=\"sk-toggleable__label sk-toggleable__label-arrow\">GaussianNB</label><div class=\"sk-toggleable__content\"><pre>GaussianNB()</pre></div></div></div></div></div>"
      ],
      "text/plain": [
       "GaussianNB()"
      ]
     },
     "execution_count": 42,
     "metadata": {},
     "output_type": "execute_result"
    }
   ],
   "source": [
    "nb_model = GaussianNB()\n",
    "nb_model.fit(x_train, y_train)"
   ]
  },
  {
   "cell_type": "code",
   "execution_count": 43,
   "id": "b9697f2b",
   "metadata": {},
   "outputs": [
    {
     "data": {
      "text/plain": [
       "array([1, 0, 2, 1, 1, 0, 1, 2, 1, 1, 2, 0, 0, 0, 0, 2, 2, 1, 1, 2, 0, 2,\n",
       "       0, 2, 2, 2, 2, 2, 0, 0, 0, 0, 1, 0, 0, 2, 1, 0, 0, 0, 2, 1, 1, 0,\n",
       "       0])"
      ]
     },
     "execution_count": 43,
     "metadata": {},
     "output_type": "execute_result"
    }
   ],
   "source": [
    "y_pred = nb_model.predict(x_test)\n",
    "y_pred"
   ]
  },
  {
   "cell_type": "code",
   "execution_count": 44,
   "id": "00583fc2",
   "metadata": {},
   "outputs": [
    {
     "name": "stdout",
     "output_type": "stream",
     "text": [
      "Accuracy: 0.9777777777777777\n"
     ]
    }
   ],
   "source": [
    "acc = accuracy_score(y_test, y_pred)\n",
    "print(\"Accuracy:\",acc)"
   ]
  },
  {
   "cell_type": "code",
   "execution_count": 47,
   "id": "e28ddf66",
   "metadata": {},
   "outputs": [
    {
     "name": "stdout",
     "output_type": "stream",
     "text": [
      "Correct predictions:\n",
      "Expected: versicolor, Predicted: versicolor, Input: [6.1 2.8 4.7 1.2]\n",
      "Expected: setosa, Predicted: setosa, Input: [5.7 3.8 1.7 0.3]\n",
      "Expected: virginica, Predicted: virginica, Input: [7.7 2.6 6.9 2.3]\n",
      "Expected: versicolor, Predicted: versicolor, Input: [6.  2.9 4.5 1.5]\n",
      "Expected: versicolor, Predicted: versicolor, Input: [6.8 2.8 4.8 1.4]\n",
      "Expected: setosa, Predicted: setosa, Input: [5.4 3.4 1.5 0.4]\n",
      "Expected: versicolor, Predicted: versicolor, Input: [5.6 2.9 3.6 1.3]\n",
      "Expected: virginica, Predicted: virginica, Input: [6.9 3.1 5.1 2.3]\n",
      "Expected: versicolor, Predicted: versicolor, Input: [6.2 2.2 4.5 1.5]\n",
      "Expected: versicolor, Predicted: versicolor, Input: [5.8 2.7 3.9 1.2]\n",
      "Expected: virginica, Predicted: virginica, Input: [6.5 3.2 5.1 2. ]\n",
      "Expected: setosa, Predicted: setosa, Input: [4.8 3.  1.4 0.1]\n",
      "Expected: setosa, Predicted: setosa, Input: [5.5 3.5 1.3 0.2]\n",
      "Expected: setosa, Predicted: setosa, Input: [4.9 3.1 1.5 0.1]\n",
      "Expected: setosa, Predicted: setosa, Input: [5.1 3.8 1.5 0.3]\n",
      "Expected: virginica, Predicted: virginica, Input: [6.5 3.  5.8 2.2]\n",
      "Expected: versicolor, Predicted: versicolor, Input: [5.6 2.5 3.9 1.1]\n",
      "Expected: versicolor, Predicted: versicolor, Input: [5.7 2.8 4.5 1.3]\n",
      "Expected: virginica, Predicted: virginica, Input: [6.4 2.8 5.6 2.2]\n",
      "Expected: setosa, Predicted: setosa, Input: [4.7 3.2 1.6 0.2]\n",
      "Expected: virginica, Predicted: virginica, Input: [6.1 3.  4.9 1.8]\n",
      "Expected: setosa, Predicted: setosa, Input: [5.  3.4 1.6 0.4]\n",
      "Expected: virginica, Predicted: virginica, Input: [6.4 2.8 5.6 2.1]\n",
      "Expected: virginica, Predicted: virginica, Input: [7.9 3.8 6.4 2. ]\n",
      "Expected: virginica, Predicted: virginica, Input: [6.7 3.  5.2 2.3]\n",
      "Expected: virginica, Predicted: virginica, Input: [6.7 2.5 5.8 1.8]\n",
      "Expected: virginica, Predicted: virginica, Input: [6.8 3.2 5.9 2.3]\n",
      "Expected: setosa, Predicted: setosa, Input: [4.8 3.  1.4 0.3]\n",
      "Expected: setosa, Predicted: setosa, Input: [4.8 3.1 1.6 0.2]\n",
      "Expected: setosa, Predicted: setosa, Input: [4.6 3.6 1.  0.2]\n",
      "Expected: setosa, Predicted: setosa, Input: [5.7 4.4 1.5 0.4]\n",
      "Expected: versicolor, Predicted: versicolor, Input: [6.7 3.1 4.4 1.4]\n",
      "Expected: setosa, Predicted: setosa, Input: [4.8 3.4 1.6 0.2]\n",
      "Expected: setosa, Predicted: setosa, Input: [4.4 3.2 1.3 0.2]\n",
      "Expected: virginica, Predicted: virginica, Input: [6.3 2.5 5.  1.9]\n",
      "Expected: versicolor, Predicted: versicolor, Input: [6.4 3.2 4.5 1.5]\n",
      "Expected: setosa, Predicted: setosa, Input: [5.2 3.5 1.5 0.2]\n",
      "Expected: setosa, Predicted: setosa, Input: [5.  3.6 1.4 0.2]\n",
      "Expected: setosa, Predicted: setosa, Input: [5.2 4.1 1.5 0.1]\n",
      "Expected: virginica, Predicted: virginica, Input: [5.8 2.7 5.1 1.9]\n",
      "Expected: versicolor, Predicted: versicolor, Input: [6.  3.4 4.5 1.6]\n",
      "Expected: versicolor, Predicted: versicolor, Input: [6.7 3.1 4.7 1.5]\n",
      "Expected: setosa, Predicted: setosa, Input: [5.4 3.9 1.3 0.4]\n",
      "Expected: setosa, Predicted: setosa, Input: [5.4 3.7 1.5 0.2]\n"
     ]
    }
   ],
   "source": [
    "print(\"Correct predictions:\")\n",
    "for i in range(len(y_test)):\n",
    "    if y_test[i] == y_pred[i]:\n",
    "        print(f\"Expected: {data.target_names[y_test[i]]}, Predicted: {data.target_names[y_pred[i]]}, Input: {X_test[i]}\")"
   ]
  },
  {
   "cell_type": "code",
   "execution_count": 48,
   "id": "090f3c4c",
   "metadata": {},
   "outputs": [
    {
     "name": "stdout",
     "output_type": "stream",
     "text": [
      "Correct predictions:\n",
      "Expected: versicolor, Predicted: virginica, Input: [6.3 3.3 4.7 1.6]\n"
     ]
    }
   ],
   "source": [
    "print(\"Correct predictions:\")\n",
    "for i in range(len(y_test)):\n",
    "    if y_test[i] != y_pred[i]:\n",
    "        print(f\"Expected: {data.target_names[y_test[i]]}, Predicted: {data.target_names[y_pred[i]]}, Input: {X_test[i]}\")"
   ]
  },
  {
   "cell_type": "code",
   "execution_count": null,
   "id": "0c3a4c54",
   "metadata": {},
   "outputs": [],
   "source": []
  }
 ],
 "metadata": {
  "kernelspec": {
   "display_name": "Python 3 (ipykernel)",
   "language": "python",
   "name": "python3"
  },
  "language_info": {
   "codemirror_mode": {
    "name": "ipython",
    "version": 3
   },
   "file_extension": ".py",
   "mimetype": "text/x-python",
   "name": "python",
   "nbconvert_exporter": "python",
   "pygments_lexer": "ipython3",
   "version": "3.10.9"
  }
 },
 "nbformat": 4,
 "nbformat_minor": 5
}
