{
 "cells": [
  {
   "cell_type": "code",
   "execution_count": 30,
   "id": "eba8da55",
   "metadata": {},
   "outputs": [],
   "source": [
    "# 11 Write Python/R Programming Code Print both correct and wrong predictions and Accuracy of the KNN Model."
   ]
  },
  {
   "cell_type": "code",
   "execution_count": 39,
   "id": "e09e2838",
   "metadata": {},
   "outputs": [],
   "source": [
    "import numpy as np\n",
    "from sklearn.datasets import load_iris\n",
    "from sklearn.neighbors import KNeighborsClassifier\n",
    "from sklearn.model_selection import train_test_split\n",
    "from sklearn.metrics import accuracy_score"
   ]
  },
  {
   "cell_type": "code",
   "execution_count": 40,
   "id": "07eb6625",
   "metadata": {},
   "outputs": [],
   "source": [
    "iris = load_iris()\n",
    "x, y = iris.data, iris.target"
   ]
  },
  {
   "cell_type": "code",
   "execution_count": 41,
   "id": "53a1ad2f",
   "metadata": {},
   "outputs": [],
   "source": [
    "x_train, x_test, y_train, y_test = train_test_split(x,y, test_size=0.4, random_state=45)"
   ]
  },
  {
   "cell_type": "code",
   "execution_count": 42,
   "id": "fcdec4d2",
   "metadata": {},
   "outputs": [
    {
     "data": {
      "text/html": [
       "<style>#sk-container-id-4 {color: black;background-color: white;}#sk-container-id-4 pre{padding: 0;}#sk-container-id-4 div.sk-toggleable {background-color: white;}#sk-container-id-4 label.sk-toggleable__label {cursor: pointer;display: block;width: 100%;margin-bottom: 0;padding: 0.3em;box-sizing: border-box;text-align: center;}#sk-container-id-4 label.sk-toggleable__label-arrow:before {content: \"▸\";float: left;margin-right: 0.25em;color: #696969;}#sk-container-id-4 label.sk-toggleable__label-arrow:hover:before {color: black;}#sk-container-id-4 div.sk-estimator:hover label.sk-toggleable__label-arrow:before {color: black;}#sk-container-id-4 div.sk-toggleable__content {max-height: 0;max-width: 0;overflow: hidden;text-align: left;background-color: #f0f8ff;}#sk-container-id-4 div.sk-toggleable__content pre {margin: 0.2em;color: black;border-radius: 0.25em;background-color: #f0f8ff;}#sk-container-id-4 input.sk-toggleable__control:checked~div.sk-toggleable__content {max-height: 200px;max-width: 100%;overflow: auto;}#sk-container-id-4 input.sk-toggleable__control:checked~label.sk-toggleable__label-arrow:before {content: \"▾\";}#sk-container-id-4 div.sk-estimator input.sk-toggleable__control:checked~label.sk-toggleable__label {background-color: #d4ebff;}#sk-container-id-4 div.sk-label input.sk-toggleable__control:checked~label.sk-toggleable__label {background-color: #d4ebff;}#sk-container-id-4 input.sk-hidden--visually {border: 0;clip: rect(1px 1px 1px 1px);clip: rect(1px, 1px, 1px, 1px);height: 1px;margin: -1px;overflow: hidden;padding: 0;position: absolute;width: 1px;}#sk-container-id-4 div.sk-estimator {font-family: monospace;background-color: #f0f8ff;border: 1px dotted black;border-radius: 0.25em;box-sizing: border-box;margin-bottom: 0.5em;}#sk-container-id-4 div.sk-estimator:hover {background-color: #d4ebff;}#sk-container-id-4 div.sk-parallel-item::after {content: \"\";width: 100%;border-bottom: 1px solid gray;flex-grow: 1;}#sk-container-id-4 div.sk-label:hover label.sk-toggleable__label {background-color: #d4ebff;}#sk-container-id-4 div.sk-serial::before {content: \"\";position: absolute;border-left: 1px solid gray;box-sizing: border-box;top: 0;bottom: 0;left: 50%;z-index: 0;}#sk-container-id-4 div.sk-serial {display: flex;flex-direction: column;align-items: center;background-color: white;padding-right: 0.2em;padding-left: 0.2em;position: relative;}#sk-container-id-4 div.sk-item {position: relative;z-index: 1;}#sk-container-id-4 div.sk-parallel {display: flex;align-items: stretch;justify-content: center;background-color: white;position: relative;}#sk-container-id-4 div.sk-item::before, #sk-container-id-4 div.sk-parallel-item::before {content: \"\";position: absolute;border-left: 1px solid gray;box-sizing: border-box;top: 0;bottom: 0;left: 50%;z-index: -1;}#sk-container-id-4 div.sk-parallel-item {display: flex;flex-direction: column;z-index: 1;position: relative;background-color: white;}#sk-container-id-4 div.sk-parallel-item:first-child::after {align-self: flex-end;width: 50%;}#sk-container-id-4 div.sk-parallel-item:last-child::after {align-self: flex-start;width: 50%;}#sk-container-id-4 div.sk-parallel-item:only-child::after {width: 0;}#sk-container-id-4 div.sk-dashed-wrapped {border: 1px dashed gray;margin: 0 0.4em 0.5em 0.4em;box-sizing: border-box;padding-bottom: 0.4em;background-color: white;}#sk-container-id-4 div.sk-label label {font-family: monospace;font-weight: bold;display: inline-block;line-height: 1.2em;}#sk-container-id-4 div.sk-label-container {text-align: center;}#sk-container-id-4 div.sk-container {/* jupyter's `normalize.less` sets `[hidden] { display: none; }` but bootstrap.min.css set `[hidden] { display: none !important; }` so we also need the `!important` here to be able to override the default hidden behavior on the sphinx rendered scikit-learn.org. See: https://github.com/scikit-learn/scikit-learn/issues/21755 */display: inline-block !important;position: relative;}#sk-container-id-4 div.sk-text-repr-fallback {display: none;}</style><div id=\"sk-container-id-4\" class=\"sk-top-container\"><div class=\"sk-text-repr-fallback\"><pre>KNeighborsClassifier()</pre><b>In a Jupyter environment, please rerun this cell to show the HTML representation or trust the notebook. <br />On GitHub, the HTML representation is unable to render, please try loading this page with nbviewer.org.</b></div><div class=\"sk-container\" hidden><div class=\"sk-item\"><div class=\"sk-estimator sk-toggleable\"><input class=\"sk-toggleable__control sk-hidden--visually\" id=\"sk-estimator-id-4\" type=\"checkbox\" checked><label for=\"sk-estimator-id-4\" class=\"sk-toggleable__label sk-toggleable__label-arrow\">KNeighborsClassifier</label><div class=\"sk-toggleable__content\"><pre>KNeighborsClassifier()</pre></div></div></div></div></div>"
      ],
      "text/plain": [
       "KNeighborsClassifier()"
      ]
     },
     "execution_count": 42,
     "metadata": {},
     "output_type": "execute_result"
    }
   ],
   "source": [
    "knn = KNeighborsClassifier()\n",
    "knn.fit(x_train, y_train)"
   ]
  },
  {
   "cell_type": "code",
   "execution_count": 43,
   "id": "4fea6865",
   "metadata": {},
   "outputs": [
    {
     "data": {
      "text/plain": [
       "array([0, 0, 2, 0, 0, 0, 0, 2, 2, 2, 0, 2, 2, 2, 1, 0, 2, 2, 0, 1, 1, 1,\n",
       "       2, 1, 0, 2, 1, 1, 0, 1, 1, 1, 1, 2, 0, 2, 0, 0, 1, 0, 0, 1, 0, 1,\n",
       "       1, 0, 2, 1, 2, 0, 0, 1, 2, 0, 2, 0, 0, 1, 0, 1])"
      ]
     },
     "execution_count": 43,
     "metadata": {},
     "output_type": "execute_result"
    }
   ],
   "source": [
    "y_pred = knn.predict(x_test)\n",
    "y_pred"
   ]
  },
  {
   "cell_type": "code",
   "execution_count": 44,
   "id": "8a49a222",
   "metadata": {},
   "outputs": [
    {
     "data": {
      "text/plain": [
       "0.9666666666666667"
      ]
     },
     "execution_count": 44,
     "metadata": {},
     "output_type": "execute_result"
    }
   ],
   "source": [
    "acc = accuracy_score(y_test, y_pred)\n",
    "acc"
   ]
  },
  {
   "cell_type": "code",
   "execution_count": 45,
   "id": "5fec2cb2",
   "metadata": {},
   "outputs": [
    {
     "name": "stdout",
     "output_type": "stream",
     "text": [
      "Correct predictions:\n",
      "Expected: setosa, Predicted: setosa, Input: [5.1 3.5 1.4 0.2]\n",
      "Expected: setosa, Predicted: setosa, Input: [5.  3.5 1.6 0.6]\n",
      "Expected: virginica, Predicted: virginica, Input: [7.2 3.  5.8 1.6]\n",
      "Expected: setosa, Predicted: setosa, Input: [4.6 3.1 1.5 0.2]\n",
      "Expected: setosa, Predicted: setosa, Input: [4.9 3.1 1.5 0.2]\n",
      "Expected: setosa, Predicted: setosa, Input: [5.1 3.8 1.9 0.4]\n",
      "Expected: setosa, Predicted: setosa, Input: [4.4 3.  1.3 0.2]\n",
      "Expected: virginica, Predicted: virginica, Input: [7.6 3.  6.6 2.1]\n",
      "Expected: virginica, Predicted: virginica, Input: [6.3 2.7 4.9 1.8]\n",
      "Expected: virginica, Predicted: virginica, Input: [6.7 3.1 5.6 2.4]\n",
      "Expected: setosa, Predicted: setosa, Input: [5.2 3.4 1.4 0.2]\n",
      "Expected: virginica, Predicted: virginica, Input: [7.2 3.2 6.  1.8]\n",
      "Expected: virginica, Predicted: virginica, Input: [5.7 2.5 5.  2. ]\n",
      "Expected: virginica, Predicted: virginica, Input: [6.3 2.9 5.6 1.8]\n",
      "Expected: setosa, Predicted: setosa, Input: [5.  3.2 1.2 0.2]\n",
      "Expected: virginica, Predicted: virginica, Input: [6.7 3.  5.2 2.3]\n",
      "Expected: virginica, Predicted: virginica, Input: [5.8 2.7 5.1 1.9]\n",
      "Expected: setosa, Predicted: setosa, Input: [5.  3.5 1.3 0.3]\n",
      "Expected: versicolor, Predicted: versicolor, Input: [6.3 2.3 4.4 1.3]\n",
      "Expected: versicolor, Predicted: versicolor, Input: [5.4 3.  4.5 1.5]\n",
      "Expected: versicolor, Predicted: versicolor, Input: [6.  3.4 4.5 1.6]\n",
      "Expected: virginica, Predicted: virginica, Input: [6.4 3.2 5.3 2.3]\n",
      "Expected: versicolor, Predicted: versicolor, Input: [6.4 3.2 4.5 1.5]\n",
      "Expected: setosa, Predicted: setosa, Input: [5.  3.6 1.4 0.2]\n",
      "Expected: virginica, Predicted: virginica, Input: [6.8 3.  5.5 2.1]\n",
      "Expected: versicolor, Predicted: versicolor, Input: [5.8 2.6 4.  1.2]\n",
      "Expected: versicolor, Predicted: versicolor, Input: [5.6 2.9 3.6 1.3]\n",
      "Expected: setosa, Predicted: setosa, Input: [5.4 3.7 1.5 0.2]\n",
      "Expected: versicolor, Predicted: versicolor, Input: [6.1 3.  4.6 1.4]\n",
      "Expected: versicolor, Predicted: versicolor, Input: [6.8 2.8 4.8 1.4]\n",
      "Expected: versicolor, Predicted: versicolor, Input: [5.7 2.9 4.2 1.3]\n",
      "Expected: virginica, Predicted: virginica, Input: [5.8 2.7 5.1 1.9]\n",
      "Expected: setosa, Predicted: setosa, Input: [5.  3.  1.6 0.2]\n",
      "Expected: virginica, Predicted: virginica, Input: [6.4 3.1 5.5 1.8]\n",
      "Expected: setosa, Predicted: setosa, Input: [4.3 3.  1.1 0.1]\n",
      "Expected: setosa, Predicted: setosa, Input: [5.  3.4 1.6 0.4]\n",
      "Expected: versicolor, Predicted: versicolor, Input: [6.4 2.9 4.3 1.3]\n",
      "Expected: setosa, Predicted: setosa, Input: [4.8 3.1 1.6 0.2]\n",
      "Expected: setosa, Predicted: setosa, Input: [5.5 4.2 1.4 0.2]\n",
      "Expected: versicolor, Predicted: versicolor, Input: [5.8 2.7 3.9 1.2]\n",
      "Expected: setosa, Predicted: setosa, Input: [4.9 3.  1.4 0.2]\n",
      "Expected: versicolor, Predicted: versicolor, Input: [6.9 3.1 4.9 1.5]\n",
      "Expected: versicolor, Predicted: versicolor, Input: [5.  2.3 3.3 1. ]\n",
      "Expected: setosa, Predicted: setosa, Input: [5.1 3.7 1.5 0.4]\n",
      "Expected: virginica, Predicted: virginica, Input: [6.4 2.7 5.3 1.9]\n",
      "Expected: versicolor, Predicted: versicolor, Input: [6.  2.2 4.  1. ]\n",
      "Expected: virginica, Predicted: virginica, Input: [7.7 3.8 6.7 2.2]\n",
      "Expected: setosa, Predicted: setosa, Input: [4.9 3.6 1.4 0.1]\n",
      "Expected: setosa, Predicted: setosa, Input: [4.8 3.  1.4 0.3]\n",
      "Expected: versicolor, Predicted: versicolor, Input: [5.6 3.  4.5 1.5]\n",
      "Expected: virginica, Predicted: virginica, Input: [6.4 2.8 5.6 2.1]\n",
      "Expected: setosa, Predicted: setosa, Input: [5.3 3.7 1.5 0.2]\n",
      "Expected: virginica, Predicted: virginica, Input: [6.7 3.3 5.7 2.5]\n",
      "Expected: setosa, Predicted: setosa, Input: [5.1 3.8 1.5 0.3]\n",
      "Expected: setosa, Predicted: setosa, Input: [4.7 3.2 1.6 0.2]\n",
      "Expected: versicolor, Predicted: versicolor, Input: [5.6 2.7 4.2 1.3]\n",
      "Expected: setosa, Predicted: setosa, Input: [4.6 3.2 1.4 0.2]\n",
      "Expected: versicolor, Predicted: versicolor, Input: [5.5 2.6 4.4 1.2]\n"
     ]
    }
   ],
   "source": [
    "print(\"Correct predictions:\")\n",
    "for i in range(len(y_test)):\n",
    "    if y_test[i] == y_pred[i]:\n",
    "        print(f\"Expected: {iris.target_names[y_test[i]]}, Predicted: {iris.target_names[y_pred[i]]}, Input: {x_test[i]}\")"
   ]
  },
  {
   "cell_type": "code",
   "execution_count": 46,
   "id": "1496ed0a",
   "metadata": {},
   "outputs": [
    {
     "name": "stdout",
     "output_type": "stream",
     "text": [
      "Wrong predictions:\n",
      "Expected: virginica, Predicted: versicolor, Input: [6.3 2.8 5.1 1.5]\n",
      "Expected: virginica, Predicted: versicolor, Input: [6.  2.2 5.  1.5]\n"
     ]
    }
   ],
   "source": [
    "print(\"Wrong predictions:\")\n",
    "for i in range(len(y_test)):\n",
    "    if y_test[i] != y_pred[i]:\n",
    "        print(f\"Expected: {iris.target_names[y_test[i]]}, Predicted: {iris.target_names[y_pred[i]]}, Input: {x_test[i]}\")"
   ]
  },
  {
   "cell_type": "code",
   "execution_count": null,
   "id": "7ea64b1c",
   "metadata": {},
   "outputs": [],
   "source": []
  }
 ],
 "metadata": {
  "kernelspec": {
   "display_name": "Python 3 (ipykernel)",
   "language": "python",
   "name": "python3"
  },
  "language_info": {
   "codemirror_mode": {
    "name": "ipython",
    "version": 3
   },
   "file_extension": ".py",
   "mimetype": "text/x-python",
   "name": "python",
   "nbconvert_exporter": "python",
   "pygments_lexer": "ipython3",
   "version": "3.10.9"
  }
 },
 "nbformat": 4,
 "nbformat_minor": 5
}
